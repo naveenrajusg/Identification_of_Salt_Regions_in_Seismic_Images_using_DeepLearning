{
 "cells": [
  {
   "cell_type": "code",
   "execution_count": null,
   "id": "2f8791ca",
   "metadata": {},
   "outputs": [],
   "source": [
    "import segmentation_models as sm\n",
    "import os\n",
    "os.environ[\"CUDA_VISIBLE_DEVICES\"]=\"0\"\n",
    "import numpy as np\n",
    "import cv2\n",
    "import matplotlib.pyplot as plt\n",
    "\n",
    "BACKBONE = 'vgg16'\n",
    "model=sm.Unet(BACKBONE,input_shape=(224,224,1),encoder_weights=None,weights='D:/ML_project/segmentation_models-master/segmentation_models-master/train_summary/vgg16/bestvgg16.h5')"
   ]
  },
  {
   "cell_type": "code",
   "execution_count": null,
   "id": "f565df88",
   "metadata": {},
   "outputs": [],
   "source": [
    "\n",
    "dirpath = 'D:/ML_project/test/images_new_selected/'\n",
    "\n",
    "imgpths=[]\n",
    "\n",
    "for pth in os.listdir(dirpath):\n",
    "    if '.png' in pth:\n",
    "        imgpths.append(os.path.join(dirpath,pth))\n"
   ]
  },
  {
   "cell_type": "code",
   "execution_count": null,
   "id": "b10c1eb5",
   "metadata": {},
   "outputs": [],
   "source": [
    "val_mask = 'D:/ML_project/test/masks_new_selected/'\n"
   ]
  },
  {
   "cell_type": "code",
   "execution_count": null,
   "id": "30ec2dd0",
   "metadata": {},
   "outputs": [],
   "source": []
  },
  {
   "cell_type": "code",
   "execution_count": null,
   "id": "ad3eeb7c",
   "metadata": {},
   "outputs": [],
   "source": [
    "roc_points=[]\n",
    "th_list=np.arange(0,260,5)\n",
    "for th in th_list:\n",
    "#     print(\"th=\",th)\n",
    "    tp_l = []\n",
    "    tn_l = []\n",
    "    fp_l = []\n",
    "    fn_l = []\n",
    "    for ipth in imgpths[:]:\n",
    "        basename=os.path.basename(ipth)\n",
    "        val_gt=os.path.join(val_mask,basename)\n",
    "        g_t=cv2.imread(val_gt,0)\n",
    "        img=cv2.imread(ipth,0)\n",
    "        rimg=img.copy()\n",
    "        g_t_img=img.copy()\n",
    "        y,x=img.shape[:2]\n",
    "        img=cv2.resize(img,(224,224),interpolation = cv2.INTER_CUBIC)\n",
    "        img=img/255\n",
    "\n",
    "        img = np.reshape(img,(1,)+img.shape)\n",
    "        img = np.reshape(img,img.shape+(1,))\n",
    "        # print(img.shape)\n",
    "        seg_res=model.predict(img)[0]\n",
    "        seg_res=np.array(seg_res*255)\n",
    "        seg_res=cv2.convertScaleAbs(seg_res)\n",
    "        seg_res = cv2.resize(seg_res, (x, y), interpolation=cv2.INTER_CUBIC)\n",
    "        seg_res_copy=seg_res.copy()\n",
    "\n",
    "        \n",
    "        ret, seg_res = cv2.threshold(seg_res_copy, th, 255, cv2.THRESH_BINARY)\n",
    "        g_t[g_t == 255] = 1\n",
    "        seg_res[seg_res == 255] = 1\n",
    "        tp = (g_t * seg_res).sum()\n",
    "        tn = ((1 - g_t) * (1 - seg_res)).sum()\n",
    "        fp = ((1 - g_t) * seg_res).sum()\n",
    "        fn = (g_t * (1 - seg_res)).sum()\n",
    "\n",
    "        tp_l.append(tp)\n",
    "        tn_l.append(tn)\n",
    "        fp_l.append(fp)\n",
    "        fn_l.append(fn)\n",
    "        \n",
    "\n",
    "    tpr = sum(tp_l) / (sum(tp_l) + sum(fn_l))\n",
    "    fpr = sum(fp_l) / (sum(tn_l) + sum(fp_l))\n",
    "    roc_points.append([fpr,tpr])\n",
    "\n"
   ]
  },
  {
   "cell_type": "code",
   "execution_count": null,
   "id": "1a043426",
   "metadata": {},
   "outputs": [],
   "source": [
    "fpr_array = []\n",
    "tpr_array = []\n",
    "for i in range(len(roc_points) - 1):\n",
    "    point1 = roc_points[i]\n",
    "    point2 = roc_points[i + 1]\n",
    "    tpr_array.append([point1[0], point2[0]])\n",
    "    fpr_array.append([point1[1], point2[1]])\n",
    "\n",
    "auc = sum(np.trapz(tpr_array,fpr_array))+1\n",
    "print('Area under curve={}'.format(auc))\n",
    "\n",
    "plt.plot(tpr_array,fpr_array, 'r', lw=2)\n",
    "plt.plot([0, 1], [0, 1], 'k-', lw=2)\n",
    "plt.xlabel('False Positive Rate')\n",
    "plt.ylabel('True Positive Rate')\n",
    "plt.title('AUC={}'.format(round(auc,3)))\n",
    "plt.show()\n",
    "\n"
   ]
  },
  {
   "cell_type": "code",
   "execution_count": null,
   "id": "ecc79d7e",
   "metadata": {},
   "outputs": [],
   "source": [
    "x=[]\n",
    "y=[]\n",
    "for i in range(len(roc_points)):\n",
    "    points1 = roc_points[i]\n",
    "    x.append(points1[0])\n",
    "    y.append(points1[1])\n",
    "\n",
    "plt.plot(x,y, 'r', lw=2)\n",
    "plt.plot([0, 1], [0, 1], 'k-', lw=2)\n",
    "plt.xlabel('False Positive Rate')\n",
    "plt.ylabel('True Positive Rate')\n",
    "plt.title('AUC={}'.format(round(auc,3)))\n",
    "plt.show()"
   ]
  },
  {
   "cell_type": "code",
   "execution_count": null,
   "id": "ff7f9df3",
   "metadata": {},
   "outputs": [],
   "source": [
    "len(roc_points)"
   ]
  },
  {
   "cell_type": "markdown",
   "id": "20fdf941",
   "metadata": {},
   "source": []
  },
  {
   "cell_type": "code",
   "execution_count": null,
   "id": "90847852",
   "metadata": {},
   "outputs": [],
   "source": []
  },
  {
   "cell_type": "code",
   "execution_count": null,
   "id": "fd8f5242",
   "metadata": {},
   "outputs": [],
   "source": []
  },
  {
   "cell_type": "code",
   "execution_count": null,
   "id": "ffb2d2a4",
   "metadata": {},
   "outputs": [],
   "source": [
    "Finding IOU"
   ]
  },
  {
   "cell_type": "code",
   "execution_count": null,
   "id": "670c714e",
   "metadata": {},
   "outputs": [],
   "source": [
    "iou_points=[]\n",
    "th_list=np.arange(0,260,5)\n",
    "for th in th_list:\n",
    "    print(\"th=\",th)\n",
    "    iou_list=[]\n",
    "    for ipth in imgpths[:]:\n",
    "        basename=os.path.basename(ipth)\n",
    "        val_gt=os.path.join(val_mask,basename)\n",
    "        g_t=cv2.imread(val_gt,0)\n",
    "        img=cv2.imread(ipth,0)\n",
    "        rimg=img.copy()\n",
    "        g_t_img=img.copy()\n",
    "        y,x=img.shape[:2]\n",
    "        img=cv2.resize(img,(224,224),interpolation = cv2.INTER_CUBIC)\n",
    "        img=img/255\n",
    "\n",
    "        img = np.reshape(img,(1,)+img.shape)\n",
    "        img = np.reshape(img,img.shape+(1,))\n",
    "        # print(img.shape)\n",
    "        seg_res=model.predict(img)[0]\n",
    "        seg_res=np.array(seg_res*255)\n",
    "        seg_res=cv2.convertScaleAbs(seg_res)\n",
    "        seg_res = cv2.resize(seg_res, (x, y), interpolation=cv2.INTER_CUBIC)\n",
    "        seg_res_copy=seg_res.copy()\n",
    "\n",
    "        \n",
    "        ret, seg_res = cv2.threshold(seg_res_copy, th, 255, cv2.THRESH_BINARY)\n",
    "        def iou_score(g_t,seg_res):\n",
    "            mask1_area = np.count_nonzero(g_t == 255)\n",
    "            mask2_area = np.count_nonzero(seg_res == 255)\n",
    "            intersection = np.count_nonzero( np.logical_and( g_t, seg_res) )\n",
    "            iou = round(((intersection/(mask1_area+mask2_area-intersection))*100),2)\n",
    "            return iou\n",
    "        iou_list.append(iou_score(g_t,seg_res))\n",
    "\n",
    "\n",
    "    iou_points.append(np.mean(iou_list))\n"
   ]
  },
  {
   "cell_type": "code",
   "execution_count": null,
   "id": "117003b5",
   "metadata": {},
   "outputs": [],
   "source": [
    "max(iou_points)"
   ]
  },
  {
   "cell_type": "code",
   "execution_count": null,
   "id": "e017e7e6",
   "metadata": {},
   "outputs": [],
   "source": [
    "index=np.argmax(np.array(iou_points))"
   ]
  },
  {
   "cell_type": "code",
   "execution_count": null,
   "id": "0887a0f6",
   "metadata": {},
   "outputs": [],
   "source": [
    "max_iou=iou_points[index]\n",
    "req_th=th_list[index]"
   ]
  },
  {
   "cell_type": "code",
   "execution_count": null,
   "id": "24958dcb",
   "metadata": {},
   "outputs": [],
   "source": [
    "%matplotlib qt\n",
    "plt.plot(th_list,iou_points, 'r', lw=2)\n",
    "plt.plot(req_th,max_iou,'*',markersize=20)\n",
    "ll=\"Selected threshold=\"+str(req_th)+\" , \"+\"Max IOU=\"+str(max_iou)\n",
    "plt.title(ll)\n",
    "plt.ylabel('IOU')\n",
    "plt.xlabel('Thresholds')\n",
    "plt.show()"
   ]
  },
  {
   "cell_type": "code",
   "execution_count": null,
   "id": "1dd832ec",
   "metadata": {},
   "outputs": [],
   "source": []
  },
  {
   "cell_type": "code",
   "execution_count": null,
   "id": "0d960b4f",
   "metadata": {},
   "outputs": [],
   "source": []
  },
  {
   "cell_type": "code",
   "execution_count": 4,
   "id": "595184ca",
   "metadata": {},
   "outputs": [],
   "source": [
    "from skimage import exposure\n",
    "import cv2\n",
    "import matplotlib.pyplot as plt\n",
    "import os"
   ]
  },
  {
   "cell_type": "code",
   "execution_count": 5,
   "id": "ca119a2e",
   "metadata": {},
   "outputs": [],
   "source": [
    "%matplotlib qt"
   ]
  },
  {
   "cell_type": "code",
   "execution_count": 10,
   "id": "7f34b424",
   "metadata": {},
   "outputs": [
    {
     "name": "stdout",
     "output_type": "stream",
     "text": [
      "302\n"
     ]
    }
   ],
   "source": [
    "\n",
    "dirpath = 'D:/ML_project/test/images_new_selected/'\n",
    "\n",
    "imgpths=[]\n",
    "\n",
    "print(len(os.listdir(dirpath)))\n",
    "\n",
    "        "
   ]
  },
  {
   "cell_type": "code",
   "execution_count": 13,
   "id": "38b270a6",
   "metadata": {},
   "outputs": [
    {
     "name": "stdout",
     "output_type": "stream",
     "text": [
      "hi\n"
     ]
    },
    {
     "name": "stderr",
     "output_type": "stream",
     "text": [
      "C:\\Users\\sgpra\\anaconda3\\envs\\ml_low_tf_bk\\lib\\site-packages\\ipykernel_launcher.py:9: MatplotlibDeprecationWarning: Adding an axes using the same arguments as a previous axes currently reuses the earlier instance.  In a future version, a new instance will always be created and returned.  Meanwhile, this warning can be suppressed, and the future behavior ensured, by passing a unique label to each axes instance.\n",
      "  if __name__ == '__main__':\n",
      "C:\\Users\\sgpra\\anaconda3\\envs\\ml_low_tf_bk\\lib\\site-packages\\ipykernel_launcher.py:10: MatplotlibDeprecationWarning: Adding an axes using the same arguments as a previous axes currently reuses the earlier instance.  In a future version, a new instance will always be created and returned.  Meanwhile, this warning can be suppressed, and the future behavior ensured, by passing a unique label to each axes instance.\n",
      "  # Remove the CWD from sys.path while we load stuff.\n"
     ]
    }
   ],
   "source": [
    "print(\"hi\")\n",
    "for pth in os.listdir(dirpath):\n",
    "#     print(\"h\")\n",
    "#     if '.png' in pth[10:]:\n",
    "#         print(\"hi\")\n",
    "        img=cv2.imread(os.path.join(dirpath,pth),0)\n",
    "        \n",
    "        gamma_corrected = exposure.adjust_gamma(img, 0.5)\n",
    "        plt.subplot(121),plt.imshow(img,'gray')\n",
    "        plt.subplot(122),plt.imshow(gamma_corrected,'gray')\n",
    "        plt.show()"
   ]
  },
  {
   "cell_type": "code",
   "execution_count": null,
   "id": "7983ae1e",
   "metadata": {},
   "outputs": [],
   "source": []
  }
 ],
 "metadata": {
  "kernelspec": {
   "display_name": "Python 3",
   "language": "python",
   "name": "python3"
  },
  "language_info": {
   "codemirror_mode": {
    "name": "ipython",
    "version": 3
   },
   "file_extension": ".py",
   "mimetype": "text/x-python",
   "name": "python",
   "nbconvert_exporter": "python",
   "pygments_lexer": "ipython3",
   "version": "3.6.13"
  }
 },
 "nbformat": 4,
 "nbformat_minor": 5
}
